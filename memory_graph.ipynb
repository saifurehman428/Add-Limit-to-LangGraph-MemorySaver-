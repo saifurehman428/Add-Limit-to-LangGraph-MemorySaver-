{
 "cells": [
  {
   "cell_type": "code",
   "execution_count": 37,
   "metadata": {},
   "outputs": [],
   "source": [
    "from typing import Annotated\n",
    "from typing_extensions import TypedDict, Literal\n",
    "from langgraph.graph import StateGraph, START, END\n",
    "from langgraph.graph.message import add_messages\n",
    "from langchain_groq import ChatGroq\n",
    "from langgraph.prebuilt import ToolNode\n",
    "from langchain_core.tools import tool\n",
    "from langchain_core.messages import RemoveMessage, HumanMessage\n",
    "from langgraph.checkpoint.memory import MemorySaver\n",
    "import os"
   ]
  },
  {
   "cell_type": "code",
   "execution_count": 38,
   "metadata": {},
   "outputs": [],
   "source": [
    "os.environ['GROQ_API_KEY'] = \"xxxxx\""
   ]
  },
  {
   "cell_type": "code",
   "execution_count": 39,
   "metadata": {},
   "outputs": [],
   "source": [
    "class State(TypedDict):\n",
    "    messages:Annotated[list,add_messages]\n",
    "\n",
    "graph_builder = StateGraph(State)"
   ]
  },
  {
   "cell_type": "code",
   "execution_count": 40,
   "metadata": {},
   "outputs": [],
   "source": [
    "groq_llm = ChatGroq(model=\"llama3-70b-8192\", temperature=0)"
   ]
  },
  {
   "cell_type": "code",
   "execution_count": 41,
   "metadata": {},
   "outputs": [],
   "source": [
    "# Define the tools for the agent to use\n",
    "@tool\n",
    "def search(query: str):\n",
    "    \"\"\"Call to check the weather\"\"\"\n",
    "    return \"the weather is pleasant with 24 degrees.\""
   ]
  },
  {
   "cell_type": "code",
   "execution_count": 42,
   "metadata": {},
   "outputs": [],
   "source": [
    "tools = [search]\n",
    "\n",
    "tool_node = ToolNode(tools)"
   ]
  },
  {
   "cell_type": "code",
   "execution_count": 43,
   "metadata": {},
   "outputs": [],
   "source": [
    "agent = groq_llm.bind_tools(tools)"
   ]
  },
  {
   "cell_type": "code",
   "execution_count": 44,
   "metadata": {},
   "outputs": [],
   "source": [
    "def should_continue(state: State) -> Literal[END, \"tools\"]: # type: ignore\n",
    "    messages = state['messages']\n",
    "    last_message = messages[-1]\n",
    "    if last_message.tool_calls:\n",
    "        return \"tools\"\n",
    "    return END"
   ]
  },
  {
   "cell_type": "code",
   "execution_count": 45,
   "metadata": {},
   "outputs": [],
   "source": [
    "def generate(state: State):\n",
    "    messages = state['messages']\n",
    "    response = groq_llm.invoke(messages)\n",
    "    print(response)\n",
    "    return {\"messages\": response}"
   ]
  },
  {
   "cell_type": "code",
   "execution_count": 46,
   "metadata": {},
   "outputs": [],
   "source": [
    "def my_node_2(state: State):\n",
    "    # keep most recent messages in memory\n",
    "    n = 4\n",
    "    delete_messages = [RemoveMessage(id=m.id) for m in state['messages'][:-n]]\n",
    "    return {\"messages\": delete_messages}"
   ]
  },
  {
   "cell_type": "code",
   "execution_count": 47,
   "metadata": {},
   "outputs": [],
   "source": [
    "def call_model(state: State):\n",
    "    messages = state['messages']\n",
    "    response = agent.invoke(messages)\n",
    "    return {\"messages\": messages + [response]}"
   ]
  },
  {
   "cell_type": "code",
   "execution_count": 48,
   "metadata": {},
   "outputs": [],
   "source": [
    "memory = MemorySaver()"
   ]
  },
  {
   "cell_type": "code",
   "execution_count": 49,
   "metadata": {},
   "outputs": [],
   "source": [
    "builder = StateGraph(State)\n",
    "builder.add_node(\"agent\", call_model)\n",
    "builder.add_node(\"tools\", tool_node)\n",
    "builder.add_node(\"node\", my_node_2)\n",
    "\n",
    "builder.add_edge(START, \"node\")\n",
    "builder.add_edge(\"node\", \"agent\")\n",
    "builder.add_conditional_edges(\n",
    "    \"agent\",\n",
    "    should_continue,\n",
    ")\n",
    "builder.add_edge(\"tools\", \"agent\")\n",
    "graph = builder.compile(checkpointer=memory)"
   ]
  },
  {
   "cell_type": "code",
   "execution_count": 57,
   "metadata": {},
   "outputs": [
    {
     "data": {
      "image/jpeg": "[encoded data removed]",
      "text/plain": [
       "<IPython.core.display.Image object>"
      ]
     },
     "metadata": {},
     "output_type": "display_data"
    }
   ],
   "source": [
    "from IPython.display import Image, display\n",
    "try:\n",
    "    display(Image(graph.get_graph().draw_mermaid_png()))\n",
    "except Exception:\n",
    "    pass"
   ]
  },
  {
   "cell_type": "code",
   "execution_count": 50,
   "metadata": {},
   "outputs": [],
   "source": [
    "def bot(question, id):\n",
    "    inputs = {\"messages\": [HumanMessage(content=question)]}\n",
    "    config = {\"configurable\": {\"thread_id\": id}}\n",
    "    for msg, metadata in graph.stream(inputs, stream_mode=\"messages\", config=config):\n",
    "        if (\n",
    "            msg.content\n",
    "            and not isinstance(msg, HumanMessage)\n",
    "            and metadata[\"langgraph_node\"] == \"agent\"\n",
    "        ):\n",
    "            print(msg.content, end='', flush=True)"
   ]
  },
  {
   "cell_type": "code",
   "execution_count": 60,
   "metadata": {},
   "outputs": [
    {
     "name": "stdout",
     "output_type": "stream",
     "text": [
      "I was created by a group of researcher at Meta AI.Hello Saif, I'm your assistant, nice to meet you!Likewise, Saif! Is there anything I can help you with or would you like to chat about something in particular?"
     ]
    }
   ],
   "source": [
    "bot(\"who created you?\", \"1\")"
   ]
  },
  {
   "cell_type": "code",
   "execution_count": 61,
   "metadata": {},
   "outputs": [
    {
     "data": {
      "text/plain": [
       "[AIMessage(content=\"Hello Saif, I'm your assistant, nice to meet you!\", response_metadata={'finish_reason': 'stop'}, id='run-e6b9bb15-3958-41b8-9274-c91df6536f22', usage_metadata={'input_tokens': 1001, 'output_tokens': 15, 'total_tokens': 1016}),\n",
       " HumanMessage(content='nice to meet you', id='810dcac1-b6ef-4307-89b3-0d01d44006a7'),\n",
       " AIMessage(content='Likewise, Saif! Is there anything I can help you with or would you like to chat about something in particular?', response_metadata={'finish_reason': 'stop'}, id='run-6d35cb47-040c-4079-988b-e71a1f7e84d6', usage_metadata={'input_tokens': 956, 'output_tokens': 26, 'total_tokens': 982}),\n",
       " HumanMessage(content='who created you?', id='0fff6e4d-cf47-4048-9e72-37120349588b'),\n",
       " AIMessage(content='I was created by a group of researcher at Meta AI.', response_metadata={'finish_reason': 'stop'}, id='run-46738501-9b50-4271-8598-655e8d68cdd6', usage_metadata={'input_tokens': 964, 'output_tokens': 13, 'total_tokens': 977})]"
      ]
     },
     "execution_count": 61,
     "metadata": {},
     "output_type": "execute_result"
    }
   ],
   "source": [
    "memory.get(config={\"configurable\": {\"thread_id\": \"1\"}})['channel_values']['messages']"
   ]
  },
  {
   "cell_type": "code",
   "execution_count": null,
   "metadata": {},
   "outputs": [],
   "source": []
  }
 ],
 "metadata": {
  "kernelspec": {
   "display_name": "venv",
   "language": "python",
   "name": "python3"
  },
  "language_info": {
   "codemirror_mode": {
    "name": "ipython",
    "version": 3
   },
   "file_extension": ".py",
   "mimetype": "text/x-python",
   "name": "python",
   "nbconvert_exporter": "python",
   "pygments_lexer": "ipython3",
   "version": "3.9.13"
  }
 },
 "nbformat": 4,
 "nbformat_minor": 2
}
